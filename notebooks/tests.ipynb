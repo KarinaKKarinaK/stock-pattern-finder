{
 "cells": [
  {
   "cell_type": "markdown",
   "id": "819e6bb1",
   "metadata": {},
   "source": [
    "# This is a space for running tests"
   ]
  }
 ],
 "metadata": {
  "language_info": {
   "name": "python"
  }
 },
 "nbformat": 4,
 "nbformat_minor": 5
}
